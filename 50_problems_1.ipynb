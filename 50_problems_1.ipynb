{
 "cells": [
  {
   "cell_type": "code",
   "execution_count": 3,
   "id": "caf831a3-8f05-461f-8f40-1ad8d1e01654",
   "metadata": {},
   "outputs": [
    {
     "name": "stdin",
     "output_type": "stream",
     "text": [
      "enter the moves made by the ant: 5\n",
      "enter the moves: 1 -1 1 -1 1\n"
     ]
    },
    {
     "name": "stdout",
     "output_type": "stream",
     "text": [
      "2\n"
     ]
    }
   ],
   "source": [
    "#ANT ON RAIL--1\n",
    "N=int(input(\"enter the moves made by the ant:\"))\n",
    "s = list(map(int,input(\"enter the moves:\").split(\" \")))\n",
    "p=0\n",
    "count=0\n",
    "for i in s:\n",
    "    p=p+i\n",
    "    if p==0:\n",
    "        count=count+1\n",
    "print(count)"
   ]
  },
  {
   "cell_type": "code",
   "execution_count": 4,
   "id": "e66e2f74-3553-465e-8f24-7ef02a9b31ba",
   "metadata": {},
   "outputs": [
    {
     "name": "stdin",
     "output_type": "stream",
     "text": [
      "enter the number of jars 3\n",
      "enter the num of chocolates in each jar 10 20 30\n"
     ]
    },
    {
     "name": "stdout",
     "output_type": "stream",
     "text": [
      "number of chocolates that A have is: 21\n"
     ]
    }
   ],
   "source": [
    "#CHOCOLATE JAR--2\n",
    "N=int(input(\"enter the number of jars\"))\n",
    "jars=list(map(int,input(\"enter the num of chocolates in each jar\").split()))\n",
    "a=0\n",
    "for i in jars:\n",
    "    rem=i%3\n",
    "    quo=i//3\n",
    "    if(rem==0):\n",
    "        a=a+quo\n",
    "    elif(rem!=0):\n",
    "        a=a+quo+1\n",
    "print(\"number of chocolates that A have is:\",a)"
   ]
  },
  {
   "cell_type": "code",
   "execution_count": 5,
   "id": "4ebb6a11-4978-4f9b-8a91-19d3b3f64910",
   "metadata": {},
   "outputs": [
    {
     "name": "stdin",
     "output_type": "stream",
     "text": [
      "enter the age of a dog: 12\n"
     ]
    },
    {
     "name": "stdout",
     "output_type": "stream",
     "text": [
      "84\n"
     ]
    }
   ],
   "source": [
    "#dog age--3\n",
    "age = int(input(\"enter the age of a dog:\"))\n",
    "n=age*7\n",
    "print(n)"
   ]
  },
  {
   "cell_type": "code",
   "execution_count": 6,
   "id": "0efd5974-a91d-4fcb-909b-ef88593fbd68",
   "metadata": {},
   "outputs": [
    {
     "name": "stdin",
     "output_type": "stream",
     "text": [
      "enter the number of problems 6\n",
      "Time to travel to the party venue 180\n"
     ]
    },
    {
     "name": "stdout",
     "output_type": "stream",
     "text": [
      "60\n",
      "55\n",
      "45\n",
      "30\n",
      "10\n",
      "problems solved: 4\n"
     ]
    }
   ],
   "source": [
    "#diwali contest--4\n",
    "N=int(input(\"enter the number of problems\"))\n",
    "P=int(input(\"Time to travel to the party venue\"))\n",
    "tl_solve=(4*60)-P\n",
    "print(tl_solve)\n",
    "tleft=tl_solve\n",
    "for i in range (1,N):\n",
    "    time=5*i\n",
    "    tl=tleft-time\n",
    "    tleft=tl\n",
    "    if tl<0:\n",
    "        print(\"problems solved:\",i-1)\n",
    "    else:\n",
    "        print(tl)"
   ]
  },
  {
   "cell_type": "code",
   "execution_count": 4,
   "id": "076a7048-0618-4b9b-af1f-710f86d54cdb",
   "metadata": {},
   "outputs": [
    {
     "name": "stdin",
     "output_type": "stream",
     "text": [
      " 3\n",
      " 5\n",
      " 2 -1 3 5 -2\n"
     ]
    },
    {
     "name": "stdout",
     "output_type": "stream",
     "text": [
      "19\n"
     ]
    }
   ],
   "source": [
    "# basketball--5\n",
    "\n",
    "input1=int(input())\n",
    "input2=int(input())\n",
    "arr=list(map(int,input().split()))\n",
    "mx=-1\n",
    "for i in range(0,len(arr)-input2+1):\n",
    " temp=arr[i:i+input2]\n",
    " k,s=1,0\n",
    " for j in temp:\n",
    "     s+=(j*k)\n",
    "     k+=1\n",
    " if s>mx:\n",
    "     mx=s\n",
    " print(mx) "
   ]
  },
  {
   "cell_type": "code",
   "execution_count": 13,
   "id": "73124528-5961-4193-99e3-3f4e08995204",
   "metadata": {},
   "outputs": [
    {
     "name": "stdin",
     "output_type": "stream",
     "text": [
      "enter a sentence   hey  hii  hello\n"
     ]
    },
    {
     "name": "stdout",
     "output_type": "stream",
     "text": [
      "6\n",
      "['hey', 'hii', 'hello']\n",
      "2\n"
     ]
    }
   ],
   "source": [
    "#count space---6\n",
    "sentence=input(\"enter a sentence\")\n",
    "count=0\n",
    "for i in sentence:\n",
    " if i==\" \":\n",
    "     count+=1\n",
    "print(count)\n",
    "\n",
    "#using inbuilt func\n",
    "s=sentence.split()\n",
    "print(s)\n",
    "print(len(s)-1)"
   ]
  },
  {
   "cell_type": "code",
   "execution_count": 8,
   "id": "927ca714-154d-4e16-b71c-829bd80d8286",
   "metadata": {},
   "outputs": [
    {
     "name": "stdout",
     "output_type": "stream",
     "text": [
      "49\n",
      "36\n",
      "1\n",
      "13649 \n"
     ]
    }
   ],
   "source": [
    "#encode the number---7\n",
    "\n",
    "n=167\n",
    "temp=n\n",
    "result=\" \"\n",
    "while n!=0:\n",
    "    digit=n%10\n",
    "    s=digit*digit\n",
    "    print(s)\n",
    "    result=str(s)+result\n",
    "    n=n//10\n",
    "print(result)"
   ]
  },
  {
   "cell_type": "code",
   "execution_count": 9,
   "id": "d3abc8a0-c0c8-4606-a719-36472186cf88",
   "metadata": {},
   "outputs": [
    {
     "name": "stdin",
     "output_type": "stream",
     "text": [
      " 2 1 6 -5\n"
     ]
    },
    {
     "name": "stdout",
     "output_type": "stream",
     "text": [
      "4\n"
     ]
    }
   ],
   "source": [
    "#arduino---8\n",
    "a=list(map(int,input().split()))\n",
    "print(sum(a))"
   ]
  },
  {
   "cell_type": "code",
   "execution_count": 11,
   "id": "6056eed9-f0b9-4488-99e0-3f879967aae5",
   "metadata": {},
   "outputs": [
    {
     "name": "stdin",
     "output_type": "stream",
     "text": [
      " 12 16 22 2\n"
     ]
    },
    {
     "name": "stdout",
     "output_type": "stream",
     "text": [
      "[0, 16, 22, 0]\n",
      "38\n"
     ]
    }
   ],
   "source": [
    "#minimum sum array--9\n",
    "\n",
    "a=list(map(int,input().split()))\n",
    "n=len(a)\n",
    "avg=(a[0]+a[1])//2\n",
    "sum=0\n",
    "for i in range (n):\n",
    "    if a[i]<avg:\n",
    "        a[i]=0\n",
    "    else:\n",
    "        sum=sum+a[i]\n",
    "print(a)\n",
    "print(sum)"
   ]
  },
  {
   "cell_type": "code",
   "execution_count": 24,
   "id": "536cf5ae-fb40-42a2-b728-6051cd1d9fa4",
   "metadata": {},
   "outputs": [
    {
     "name": "stdin",
     "output_type": "stream",
     "text": [
      " tthhhtt\n"
     ]
    },
    {
     "name": "stdout",
     "output_type": "stream",
     "text": [
      "4\n"
     ]
    }
   ],
   "source": [
    "#Toss and score--10\n",
    "count=0\n",
    "s=input()\n",
    "hc=0\n",
    "for i in s:\n",
    "    if i=='h':\n",
    "        hc+=1\n",
    "        count+=2\n",
    "        if hc==3:\n",
    "            break\n",
    "    elif i=='t':\n",
    "        count-=1\n",
    "print(count)\n"
   ]
  }
 ],
 "metadata": {
  "kernelspec": {
   "display_name": "Python 3 (ipykernel)",
   "language": "python",
   "name": "python3"
  },
  "language_info": {
   "codemirror_mode": {
    "name": "ipython",
    "version": 3
   },
   "file_extension": ".py",
   "mimetype": "text/x-python",
   "name": "python",
   "nbconvert_exporter": "python",
   "pygments_lexer": "ipython3",
   "version": "3.11.7"
  }
 },
 "nbformat": 4,
 "nbformat_minor": 5
}
